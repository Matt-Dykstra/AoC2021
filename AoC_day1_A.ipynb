{
 "cells": [
  {
   "cell_type": "code",
   "execution_count": 17,
   "id": "d0d966e1",
   "metadata": {},
   "outputs": [],
   "source": [
    "import numpy as np"
   ]
  },
  {
   "cell_type": "code",
   "execution_count": 14,
   "id": "9a7494a7",
   "metadata": {},
   "outputs": [],
   "source": [
    "with open(\"day1_input.txt\") as f:\n",
    "    lines = f.readlines()"
   ]
  },
  {
   "cell_type": "code",
   "execution_count": 9,
   "id": "285a7e4b",
   "metadata": {},
   "outputs": [],
   "source": [
    "list1 = [int(i) for i in lines]"
   ]
  },
  {
   "cell_type": "code",
   "execution_count": 18,
   "id": "827ec2af",
   "metadata": {},
   "outputs": [],
   "source": [
    "arr = np.array(list1)"
   ]
  },
  {
   "cell_type": "code",
   "execution_count": 26,
   "id": "9b467553",
   "metadata": {},
   "outputs": [],
   "source": [
    "result = np.diff(arr)"
   ]
  },
  {
   "cell_type": "code",
   "execution_count": 33,
   "id": "cab1aaef",
   "metadata": {},
   "outputs": [
    {
     "name": "stdout",
     "output_type": "stream",
     "text": [
      "1665\n"
     ]
    }
   ],
   "source": [
    "k = 0\n",
    "count = len([i for i in result if i > k])\n",
    "print(count)"
   ]
  },
  {
   "cell_type": "code",
   "execution_count": null,
   "id": "647ab7b9",
   "metadata": {},
   "outputs": [],
   "source": []
  }
 ],
 "metadata": {
  "kernelspec": {
   "display_name": "Python 3 (ipykernel)",
   "language": "python",
   "name": "python3"
  },
  "language_info": {
   "codemirror_mode": {
    "name": "ipython",
    "version": 3
   },
   "file_extension": ".py",
   "mimetype": "text/x-python",
   "name": "python",
   "nbconvert_exporter": "python",
   "pygments_lexer": "ipython3",
   "version": "3.8.10"
  }
 },
 "nbformat": 4,
 "nbformat_minor": 5
}
